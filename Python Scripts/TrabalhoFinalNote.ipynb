{
 "metadata": {
  "language_info": {
   "codemirror_mode": {
    "name": "ipython",
    "version": 3
   },
   "file_extension": ".py",
   "mimetype": "text/x-python",
   "name": "python",
   "nbconvert_exporter": "python",
   "pygments_lexer": "ipython3",
   "version": "3.9.2"
  },
  "orig_nbformat": 2,
  "kernelspec": {
   "name": "python392jvsc74a57bd01564ab7a8a14d1fa39d9d42dbe913f960e04be420fae7be3f6a9326a9f4f2f89",
   "display_name": "Python 3.9.2 64-bit"
  },
  "metadata": {
   "interpreter": {
    "hash": "1564ab7a8a14d1fa39d9d42dbe913f960e04be420fae7be3f6a9326a9f4f2f89"
   }
  }
 },
 "nbformat": 4,
 "nbformat_minor": 2,
 "cells": [
  {
   "cell_type": "code",
   "execution_count": 14,
   "metadata": {},
   "outputs": [],
   "source": [
    "import glob\n",
    "import cv2\n",
    "import numpy as np\n",
    "import pandas as pd\n",
    "\n",
    "images = [cv2.imread(file) for file in glob.glob(\n",
    "    \"C:/Users/Usuario/Downloads/PDI Exercicios/Python Scripts/datasetTest/*.png\")]\n",
    "\n",
    "len(images)\n",
    "\n",
    "#dataFrame = pd.DataFrame()\n",
    "\n",
    "def GetArea(image):\n",
    "    height, width, _ = image.shape\n",
    "    area = height * width\n",
    "    return area\n",
    "\n",
    "\n",
    "dictionaryList = []\n",
    "for image in images:\n",
    "    area = GetArea(image)\n",
    "\n",
    "    var = 4\n",
    "\n",
    "    corr = 3\n",
    "\n",
    "    cat = 1\n",
    "\n",
    "    dictionary = { \n",
    "        \"Area\": area,\n",
    "        \"Var\": var,\n",
    "        \"Corr\": corr,\n",
    "        \"Categoria\" : cat\n",
    "    }\n",
    "\n",
    "    listionary = [area, var, corr, cat]\n",
    "\n",
    "    # get input row in dictionary format\n",
    "    # key = col_name\n",
    "    \n",
    "    #dict1.update(blah..)\n",
    "\n",
    "    dictionaryList.append(dictionary)\n",
    "\n",
    "\n",
    "df = pd.DataFrame(dictionaryList)\n",
    "\n"
   ]
  },
  {
   "cell_type": "code",
   "execution_count": 15,
   "metadata": {},
   "outputs": [
    {
     "output_type": "execute_result",
     "data": {
      "text/plain": [
       "     Area  Var  Corr  Categoria\n",
       "0  530322    4     3          1\n",
       "1  274813    4     3          1\n",
       "2  481048    4     3          1\n",
       "3  238220    4     3          1\n",
       "4  220506    4     3          1"
      ],
      "text/html": "<div>\n<style scoped>\n    .dataframe tbody tr th:only-of-type {\n        vertical-align: middle;\n    }\n\n    .dataframe tbody tr th {\n        vertical-align: top;\n    }\n\n    .dataframe thead th {\n        text-align: right;\n    }\n</style>\n<table border=\"1\" class=\"dataframe\">\n  <thead>\n    <tr style=\"text-align: right;\">\n      <th></th>\n      <th>Area</th>\n      <th>Var</th>\n      <th>Corr</th>\n      <th>Categoria</th>\n    </tr>\n  </thead>\n  <tbody>\n    <tr>\n      <th>0</th>\n      <td>530322</td>\n      <td>4</td>\n      <td>3</td>\n      <td>1</td>\n    </tr>\n    <tr>\n      <th>1</th>\n      <td>274813</td>\n      <td>4</td>\n      <td>3</td>\n      <td>1</td>\n    </tr>\n    <tr>\n      <th>2</th>\n      <td>481048</td>\n      <td>4</td>\n      <td>3</td>\n      <td>1</td>\n    </tr>\n    <tr>\n      <th>3</th>\n      <td>238220</td>\n      <td>4</td>\n      <td>3</td>\n      <td>1</td>\n    </tr>\n    <tr>\n      <th>4</th>\n      <td>220506</td>\n      <td>4</td>\n      <td>3</td>\n      <td>1</td>\n    </tr>\n  </tbody>\n</table>\n</div>"
     },
     "metadata": {},
     "execution_count": 15
    }
   ],
   "source": [
    "df"
   ]
  },
  {
   "cell_type": "code",
   "execution_count": 16,
   "metadata": {},
   "outputs": [],
   "source": [
    "df.to_csv(\"C:/Users/Usuario/Downloads/PDI Exercicios/Python Scripts/datasetTest/dataframe.txt\", header = False, sep = \",\", index = False)"
   ]
  },
  {
   "cell_type": "code",
   "execution_count": null,
   "metadata": {},
   "outputs": [],
   "source": []
  }
 ]
}