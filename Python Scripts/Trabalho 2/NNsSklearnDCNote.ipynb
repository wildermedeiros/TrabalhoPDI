{
 "metadata": {
  "language_info": {
   "codemirror_mode": {
    "name": "ipython",
    "version": 3
   },
   "file_extension": ".py",
   "mimetype": "text/x-python",
   "name": "python",
   "nbconvert_exporter": "python",
   "pygments_lexer": "ipython3",
   "version": "3.9.2"
  },
  "orig_nbformat": 2,
  "kernelspec": {
   "name": "python392jvsc74a57bd01564ab7a8a14d1fa39d9d42dbe913f960e04be420fae7be3f6a9326a9f4f2f89",
   "display_name": "Python 3.9.2 64-bit"
  },
  "metadata": {
   "interpreter": {
    "hash": "1564ab7a8a14d1fa39d9d42dbe913f960e04be420fae7be3f6a9326a9f4f2f89"
   }
  }
 },
 "nbformat": 4,
 "nbformat_minor": 2,
 "cells": [
  {
   "cell_type": "code",
   "execution_count": 69,
   "metadata": {},
   "outputs": [
    {
     "output_type": "stream",
     "name": "stdout",
     "text": [
      "Iteration 1, loss = 18.05849701\n",
      "Iteration 2, loss = 17.57663135\n",
      "Iteration 3, loss = 13.21358936\n",
      "Iteration 4, loss = 7.05420140\n",
      "Iteration 5, loss = 7.25548294\n",
      "Iteration 6, loss = 6.57013506\n",
      "Iteration 7, loss = 9.48378983\n",
      "Iteration 8, loss = 7.51027931\n",
      "Iteration 9, loss = 10.03946719\n",
      "Iteration 10, loss = 5.94087995\n",
      "Iteration 11, loss = 6.58898130\n",
      "Iteration 12, loss = 6.23845089\n",
      "Iteration 13, loss = 8.71102698\n",
      "Iteration 14, loss = 4.29406950\n",
      "Iteration 15, loss = 7.41019947\n",
      "Iteration 16, loss = 6.54497771\n",
      "Iteration 17, loss = 5.33288362\n",
      "Iteration 18, loss = 7.12103089\n",
      "Iteration 19, loss = 7.91941492\n",
      "Iteration 20, loss = 6.47413256\n",
      "Iteration 21, loss = 6.98100884\n",
      "Iteration 22, loss = 4.25494297\n",
      "Iteration 23, loss = 5.94018325\n",
      "Iteration 24, loss = 7.77585367\n",
      "Iteration 25, loss = 6.76318734\n",
      "Iteration 26, loss = 4.66709570\n",
      "Iteration 27, loss = 3.30167840\n",
      "Iteration 28, loss = 5.90920547\n",
      "Iteration 29, loss = 5.53748734\n",
      "Iteration 30, loss = 6.67882154\n",
      "Iteration 31, loss = 5.62887951\n",
      "Iteration 32, loss = 8.07130599\n",
      "Iteration 33, loss = 7.39189576\n",
      "Iteration 34, loss = 6.71350921\n",
      "Iteration 35, loss = 9.60294381\n",
      "Iteration 36, loss = 4.16800605\n",
      "Iteration 37, loss = 5.79958571\n",
      "Iteration 38, loss = 5.09111092\n",
      "Training loss did not improve more than tol=0.000100 for 10 consecutive epochs. Stopping.\n",
      "[[2367 1768]\n",
      " [1696 2401]]\n",
      "              precision    recall  f1-score   support\n",
      "\n",
      "         1.0       0.58      0.57      0.58      4135\n",
      "         2.0       0.58      0.59      0.58      4097\n",
      "\n",
      "    accuracy                           0.58      8232\n",
      "   macro avg       0.58      0.58      0.58      8232\n",
      "weighted avg       0.58      0.58      0.58      8232\n",
      "\n"
     ]
    }
   ],
   "source": [
    "from sklearn.model_selection import train_test_split\n",
    "import numpy as np\n",
    "from numpy import genfromtxt\n",
    "import matplotlib.pyplot as plt\n",
    "from sklearn.metrics import confusion_matrix, classification_report\n",
    "from sklearn.preprocessing import MinMaxScaler\n",
    "from sklearn.svm import SVC\n",
    "\n",
    "data = genfromtxt(\"C:/Users/Usuario/Downloads/PDI Exercicios/Python Scripts/datasetTest/data.txt\", delimiter=',')\n",
    "\n",
    "labels = data[:, 12]\n",
    "features = data[:, 0:12]\n",
    "\n",
    "X = features\n",
    "y = labels\n",
    "\n",
    "XTrain, XTest, yTrain, yTest = train_test_split(X, y, test_size=0.33, random_state=42)\n",
    "\n",
    "from sklearn.neural_network import MLPClassifier\n",
    "mlp = MLPClassifier(hidden_layer_sizes=(10, 12), activation='relu', solver='adam', max_iter=50, verbose = 2)\n",
    "\n",
    "mlp.fit(XTrain, yTrain)\n",
    "\n",
    "predictions = mlp.predict(XTest)\n",
    "\n",
    "print(confusion_matrix(yTest, predictions))\n",
    "\n",
    "print(classification_report(yTest, predictions))\n"
   ]
  }
 ]
}