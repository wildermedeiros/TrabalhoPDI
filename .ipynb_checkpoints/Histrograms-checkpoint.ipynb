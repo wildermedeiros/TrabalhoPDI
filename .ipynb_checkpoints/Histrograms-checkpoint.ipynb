{
 "cells": [
  {
   "cell_type": "code",
   "execution_count": null,
   "metadata": {},
   "outputs": [],
   "source": [
    "import cv2\n",
    "import numpy as np\n",
    "import matplotlib.pyplot as plt\n",
    "%matplotlib inline"
   ]
  },
  {
   "cell_type": "code",
   "execution_count": null,
   "metadata": {},
   "outputs": [],
   "source": [
    "baco = cv2.imread('../ni/baco.JPG')\n",
    "rgbBaco = cv2.cvtColor(baco, cv2.COLOR_BGR2RGB)\n",
    "\n",
    "ge = cv2.imread('../ni/ge.JPG')\n",
    "rgbGe = cv2.cvtColor(ge, cv2.COLOR_BGR2RGB)\n",
    "\n",
    "snow = cv2.imread('../ni/snow.JPG')\n",
    "rgbSnow = cv2.cvtColor(snow, cv2.COLOR_BGR2RGB)\n"
   ]
  },
  {
   "cell_type": "code",
   "execution_count": null,
   "metadata": {},
   "outputs": [],
   "source": [
    "#BGR\n",
    "\n",
    "histogramValuesB = cv2.calcHist([ge], channels = [0], mask = None, histSize = [256], ranges = [0,256]) \n",
    "histogramValuesG = cv2.calcHist([ge], channels = [1], mask = None, histSize = [256], ranges = [0,256]) \n",
    "histogramValuesR = cv2.calcHist([ge], channels = [2], mask = None, histSize = [256], ranges = [0,256]) \n",
    "\n",
    "plt.plot(histogramValuesB)\n",
    "plt.plot(histogramValuesG)\n",
    "plt.plot(histogramValuesR)\n",
    "\n"
   ]
  },
  {
   "cell_type": "code",
   "execution_count": null,
   "metadata": {},
   "outputs": [],
   "source": [
    "plt.imshow(rgbGe)"
   ]
  },
  {
   "cell_type": "code",
   "execution_count": null,
   "metadata": {},
   "outputs": [],
   "source": [
    "cv2.imshow('Geovaninha', histogramValuesB)\n",
    "    \n",
    "   "
   ]
  },
  {
   "cell_type": "code",
   "execution_count": null,
   "metadata": {},
   "outputs": [],
   "source": []
  }
 ],
 "metadata": {
  "kernelspec": {
   "display_name": "Python 3",
   "language": "python",
   "name": "python3"
  },
  "language_info": {
   "codemirror_mode": {
    "name": "ipython",
    "version": 3
   },
   "file_extension": ".py",
   "mimetype": "text/x-python",
   "name": "python",
   "nbconvert_exporter": "python",
   "pygments_lexer": "ipython3",
   "version": "3.6.6"
  }
 },
 "nbformat": 4,
 "nbformat_minor": 2
}
