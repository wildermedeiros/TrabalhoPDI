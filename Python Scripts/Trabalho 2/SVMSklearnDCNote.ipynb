{
 "metadata": {
  "language_info": {
   "codemirror_mode": {
    "name": "ipython",
    "version": 3
   },
   "file_extension": ".py",
   "mimetype": "text/x-python",
   "name": "python",
   "nbconvert_exporter": "python",
   "pygments_lexer": "ipython3",
   "version": "3.9.2"
  },
  "orig_nbformat": 2,
  "kernelspec": {
   "name": "python392jvsc74a57bd01564ab7a8a14d1fa39d9d42dbe913f960e04be420fae7be3f6a9326a9f4f2f89",
   "display_name": "Python 3.9.2 64-bit"
  },
  "metadata": {
   "interpreter": {
    "hash": "1564ab7a8a14d1fa39d9d42dbe913f960e04be420fae7be3f6a9326a9f4f2f89"
   }
  }
 },
 "nbformat": 4,
 "nbformat_minor": 2,
 "cells": [
  {
   "cell_type": "code",
   "execution_count": 5,
   "metadata": {},
   "outputs": [
    {
     "output_type": "stream",
     "name": "stdout",
     "text": [
      "[LibSVM][[2262 1873]\n",
      " [1892 2205]]\n",
      "              precision    recall  f1-score   support\n",
      "\n",
      "         1.0       0.54      0.55      0.55      4135\n",
      "         2.0       0.54      0.54      0.54      4097\n",
      "\n",
      "    accuracy                           0.54      8232\n",
      "   macro avg       0.54      0.54      0.54      8232\n",
      "weighted avg       0.54      0.54      0.54      8232\n",
      "\n"
     ]
    }
   ],
   "source": [
    "from sklearn.model_selection import train_test_split\n",
    "import numpy as np\n",
    "from numpy import genfromtxt\n",
    "import matplotlib.pyplot as plt\n",
    "from sklearn.metrics import confusion_matrix, classification_report\n",
    "from sklearn.preprocessing import MinMaxScaler\n",
    "from sklearn.svm import SVC\n",
    "\n",
    "data = genfromtxt(\n",
    "    \"C:/Users/Usuario/Downloads/PDI Exercicios/Python Scripts/datasetTest/data.txt\", delimiter=',')\n",
    "\n",
    "labels = data[:, 12]\n",
    "features = data[:, 0:12]\n",
    "\n",
    "X = features\n",
    "y = labels\n",
    "\n",
    "XTrain, XTest, yTrain, yTest = train_test_split(\n",
    "    X, y, test_size=0.33, random_state=42)\n",
    "\n",
    "scalerObject = MinMaxScaler()\n",
    "\n",
    "scalerObject.fit(XTrain)\n",
    "\n",
    "scaledXTrain = scalerObject.transform(XTrain)\n",
    "scaledXTest = scalerObject.transform(XTest)\n",
    "\n",
    "# 'linear' , 'rbf', 'poly', 'sigmoid'\n",
    "svmModel = SVC(kernel='sigmoid', verbose=2)\n",
    "svmModel.fit(scaledXTrain, yTrain)\n",
    "\n",
    "predictions = svmModel.predict(scaledXTest)\n",
    "\n",
    "print(confusion_matrix(yTest, predictions))\n",
    "\n",
    "print(classification_report(yTest, predictions))\n"
   ]
  }
 ]
}