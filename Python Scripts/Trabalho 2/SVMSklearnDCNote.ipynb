{
 "metadata": {
  "language_info": {
   "codemirror_mode": {
    "name": "ipython",
    "version": 3
   },
   "file_extension": ".py",
   "mimetype": "text/x-python",
   "name": "python",
   "nbconvert_exporter": "python",
   "pygments_lexer": "ipython3",
   "version": "3.9.2"
  },
  "orig_nbformat": 2,
  "kernelspec": {
   "name": "python392jvsc74a57bd01564ab7a8a14d1fa39d9d42dbe913f960e04be420fae7be3f6a9326a9f4f2f89",
   "display_name": "Python 3.9.2 64-bit"
  },
  "metadata": {
   "interpreter": {
    "hash": "1564ab7a8a14d1fa39d9d42dbe913f960e04be420fae7be3f6a9326a9f4f2f89"
   }
  }
 },
 "nbformat": 4,
 "nbformat_minor": 2,
 "cells": [
  {
   "cell_type": "code",
   "execution_count": 2,
   "metadata": {},
   "outputs": [
    {
     "output_type": "stream",
     "name": "stdout",
     "text": [
      "oi\n",
      "tudobem\n",
      "0.5965773097175682\n",
      "0.5983965014577259\n",
      "acabou\n"
     ]
    }
   ],
   "source": [
    "from sklearn.model_selection import train_test_split\n",
    "import numpy as np\n",
    "from numpy import genfromtxt\n",
    "import matplotlib.pyplot as plt\n",
    "from sklearn.metrics import confusion_matrix, classification_report\n",
    "from sklearn.preprocessing import MinMaxScaler\n",
    "from sklearn.svm import SVC\n",
    "\n",
    "data = genfromtxt(\"C:/Users/Usuario/Downloads/PDI Exercicios/Python Scripts/datasetTest/data.txt\", delimiter=',')\n",
    "\n",
    "labels = data[:, 12]\n",
    "features = data[:, 0:12]\n",
    "\n",
    "X = features\n",
    "y = labels\n",
    "\n",
    "XTrain, XTest, yTrain, yTest = train_test_split(X, y, test_size=0.33, random_state=42)\n",
    "\n",
    "print(\"oi\")\n",
    "\n",
    "# 'linear' , 'rbf', 'poly', 'sigmoid' \n",
    "svmModel = SVC(C = .1, kernel = 'linear', gamma = 1)\n",
    "svmModel.fit(XTrain, yTrain)\n",
    "\n",
    "print(\"tudobem\")\n",
    "\n",
    "prediction = svmModel.predict(XTest)\n",
    "print(svmModel.score(XTrain, yTrain))\n",
    "print(svmModel.score(XTest, yTest))\n",
    "\n",
    "print(\"acabou\")\n"
   ]
  },
  {
   "cell_type": "code",
   "execution_count": 6,
   "metadata": {},
   "outputs": [
    {
     "output_type": "stream",
     "name": "stdout",
     "text": [
      "[[2798 1337]\n [1969 2128]]\n              precision    recall  f1-score   support\n\n         1.0       0.59      0.68      0.63      4135\n         2.0       0.61      0.52      0.56      4097\n\n    accuracy                           0.60      8232\n   macro avg       0.60      0.60      0.60      8232\nweighted avg       0.60      0.60      0.60      8232\n\n"
     ]
    }
   ],
   "source": [
    "print(confusion_matrix(yTest, prediction))\n",
    "print(classification_report(yTest, prediction))\n",
    "\n"
   ]
  }
 ]
}