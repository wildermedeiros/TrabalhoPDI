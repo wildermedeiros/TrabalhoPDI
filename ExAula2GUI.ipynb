{
 "cells": [
  {
   "cell_type": "code",
   "execution_count": 22,
   "metadata": {},
   "outputs": [],
   "source": [
    "import cv2\n",
    "import numpy as np\n",
    "import matplotlib.pyplot as plt\n",
    "%matplotlib inline\n",
    "\n",
    "\n",
    "def ShowImg(img):\n",
    "    while True:\n",
    "        cv2.imshow('Aula2', img)\n",
    "    \n",
    "        if cv2.waitKey(1) & 0xFF == 27:\n",
    "            break\n",
    "\n",
    "# def PutTextOnScreen(event, x, y, flags, param):\n",
    "#     if event == cv2.EVENT_MOUSEMOVE:\n",
    "\n",
    "        \n",
    "\n",
    "\n",
    "# cv2.namedWindow(winname = 'Aula2')\n",
    "# cv2.setMouseCallback('Aula2', PutTextOnScreen)\n",
    "\n",
    "\n",
    "img = cv2.imread('c:/snow.jpg')\n",
    "\n",
    "fontType = cv2.FONT_HERSHEY_SIMPLEX\n",
    "textToDisplay = \"X: \" + \"Y: \"\n",
    "img = cv2.putText(img, textToDisplay, (10,500), fontType, 2, (255,255,255), 3, cv2.LINE_AA)\n",
    "ShowImg(img)\n",
    "\n",
    "cv2.destroyAllWindows()\n"
   ]
  },
  {
   "cell_type": "code",
   "execution_count": 15,
   "metadata": {},
   "outputs": [],
   "source": []
  },
  {
   "cell_type": "code",
   "execution_count": 10,
   "metadata": {},
   "outputs": [],
   "source": []
  },
  {
   "cell_type": "code",
   "execution_count": 16,
   "metadata": {},
   "outputs": [
    {
     "data": {
      "text/plain": [
       "numpy.ndarray"
      ]
     },
     "execution_count": 16,
     "metadata": {},
     "output_type": "execute_result"
    }
   ],
   "source": []
  },
  {
   "cell_type": "code",
   "execution_count": null,
   "metadata": {},
   "outputs": [],
   "source": []
  }
 ],
 "metadata": {
  "kernelspec": {
   "display_name": "Python 3",
   "language": "python",
   "name": "python3"
  },
  "language_info": {
   "codemirror_mode": {
    "name": "ipython",
    "version": 3
   },
   "file_extension": ".py",
   "mimetype": "text/x-python",
   "name": "python",
   "nbconvert_exporter": "python",
   "pygments_lexer": "ipython3",
   "version": "3.6.6"
  }
 },
 "nbformat": 4,
 "nbformat_minor": 2
}
