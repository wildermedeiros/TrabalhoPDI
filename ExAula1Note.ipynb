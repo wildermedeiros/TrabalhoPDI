{
 "cells": [
  {
   "cell_type": "code",
   "execution_count": 2,
   "metadata": {},
   "outputs": [
    {
     "name": "stdin",
     "output_type": "stream",
     "text": [
      "Enter the imagem path:  c:/snow.jpg\n"
     ]
    },
    {
     "name": "stdout",
     "output_type": "stream",
     "text": [
      "Press [1] To Show The Selected Image\n",
      "Press [2] To Go To HSL Menu options\n",
      "Press [3] To Nothing\n",
      "Press [0] To CLose\n",
      "\n",
      "Press Esc To Close The Images\n"
     ]
    },
    {
     "name": "stdin",
     "output_type": "stream",
     "text": [
      "Choose a option:  1\n"
     ]
    },
    {
     "name": "stdout",
     "output_type": "stream",
     "text": [
      "\n",
      "\n",
      "Press [1] To Show The Selected Image\n",
      "Press [2] To Go To HSL Menu options\n",
      "Press [3] To Nothing\n",
      "Press [0] To CLose\n",
      "\n",
      "Press Esc To Close The Images\n",
      "\n"
     ]
    },
    {
     "name": "stdin",
     "output_type": "stream",
     "text": [
      "Choose a option:  2\n"
     ]
    },
    {
     "name": "stdout",
     "output_type": "stream",
     "text": [
      "Press [1] To Show The HSL Image and Save\n",
      "Press [2] To Show The Channels and Save\n",
      "Press [3] To Show The Histograms of Each Channel and Save\n",
      "Press [4] To Back\n",
      "\n",
      "Press Esc To Close The Images\n"
     ]
    },
    {
     "name": "stdin",
     "output_type": "stream",
     "text": [
      "Choose a option:  1\n"
     ]
    },
    {
     "name": "stdout",
     "output_type": "stream",
     "text": [
      "\n",
      "\n",
      "Press [1] To Show The HSL Image and Save\n",
      "Press [2] To Show The Channels and Save\n",
      "Press [3] To Show The Histograms of Each Channel and Save\n",
      "Press [4] To Back\n",
      "\n",
      "Press Esc To Close The Images\n",
      "\n"
     ]
    },
    {
     "name": "stdin",
     "output_type": "stream",
     "text": [
      "Choose a option:  2\n"
     ]
    },
    {
     "name": "stdout",
     "output_type": "stream",
     "text": [
      "\n",
      "\n",
      "Press [1] To Show The HSL Image and Save\n",
      "Press [2] To Show The Channels and Save\n",
      "Press [3] To Show The Histograms of Each Channel and Save\n",
      "Press [4] To Back\n",
      "\n",
      "Press Esc To Close The Images\n",
      "\n"
     ]
    },
    {
     "name": "stdin",
     "output_type": "stream",
     "text": [
      "Choose a option:  4\n"
     ]
    },
    {
     "name": "stdout",
     "output_type": "stream",
     "text": [
      "\n",
      "Press [1] To Show The Selected Image\n",
      "Press [2] To Go To HSL Menu options\n",
      "Press [3] To Nothing\n",
      "Press [0] To CLose\n",
      "\n",
      "Press Esc To Close The Images\n",
      "\n"
     ]
    },
    {
     "name": "stdin",
     "output_type": "stream",
     "text": [
      "Choose a option:  0\n"
     ]
    }
   ],
   "source": [
    "import numpy as np\n",
    "import matplotlib.pyplot as plt\n",
    "import cv2\n",
    "\n",
    "def Menu():\n",
    "    print('Press [1] To Show The Selected Image')\n",
    "    print('Press [2] To Go To HSL Menu options')\n",
    "    print('Press [3] To Nothing')\n",
    "    print('Press [0] To CLose')\n",
    "    print()\n",
    "    print('Press Esc To Close The Images')\n",
    "\n",
    "def MenuHSLInfo():\n",
    "    print('Press [1] To Show The HSL Image and Save')\n",
    "    print('Press [2] To Show The Channels and Save')\n",
    "    print('Press [3] To Show The Histograms of Each Channel and Save')\n",
    "    print('Press [4] To Back')\n",
    "    print()\n",
    "    print('Press Esc To Close The Images')\n",
    "    \n",
    "def MenuHSL():\n",
    "    MenuHSLInfo()\n",
    "    option = int(input('Choose a option: '))\n",
    "        \n",
    "    while option != 4:\n",
    "    \n",
    "        if option == 1:\n",
    "            ShowImg(hslImg)\n",
    "            CloseAllWindows()\n",
    "            print()\n",
    "        \n",
    "        elif option == 2:\n",
    "            SplitAndShow(hslImg)\n",
    "            CloseAllWindows()\n",
    "            print()\n",
    "            \n",
    "        else:\n",
    "            print('Invalid option')\n",
    "\n",
    "        print()\n",
    "        MenuHSLInfo()\n",
    "        print()\n",
    "        option = int(input('Choose a option: '))\n",
    "\n",
    "        cv2.destroyAllWindows()\n",
    "         \n",
    "def ShowImg(img):\n",
    "    while True:\n",
    "        cv2.imshow('Geovaninha', img)\n",
    "        \n",
    "        if cv2.waitKey(1) & 0xFF == 27:\n",
    "            break\n",
    "\n",
    "def ShowChannels(channelOne, channelTwo, channelThree):\n",
    "    while True:\n",
    "        cv2.imshow('Channel One', channelOne)\n",
    "        cv2.imshow('Channel Two', channelTwo)\n",
    "        cv2.imshow('Channel Three', channelThree)\n",
    "\n",
    "        if cv2.waitKey(1) & 0xFF == 27:\n",
    "            break\n",
    "            \n",
    "def CloseAllWindows():\n",
    "    cv2.destroyAllWindows()\n",
    "\n",
    "def SplitAndShow(imgToSplit):\n",
    "    r, g, b = cv2.split(imgToSplit)    \n",
    "    ShowChannels(r, g, b)\n",
    "    \n",
    "# Start\n",
    "\n",
    "imgPath = input('Enter the imagem path: ')\n",
    "\n",
    "rgbImg = cv2.imread(imgPath)\n",
    "\n",
    "hslImg = cv2.cvtColor(rgbImg, cv2.COLOR_RGB2HLS)\n",
    "hsvImg = cv2.cvtColor(rgbImg, cv2.COLOR_RGB2HSV)\n",
    "grayImg = cv2.cvtColor(rgbImg, cv2.COLOR_RGB2GRAY)\n",
    "\n",
    "# Prompt the Menu \n",
    "\n",
    "Menu()\n",
    "option = int(input('Choose a option: '))\n",
    "\n",
    "while option != 0:\n",
    "    \n",
    "    if option == 1:\n",
    "        ShowImg(rgbImg)\n",
    "        CloseAllWindows()\n",
    "        print()\n",
    "        \n",
    "    elif option == 2:\n",
    "        MenuHSL()\n",
    "        \n",
    "    elif option == 3:\n",
    "        ShowImg(hsvImg)\n",
    "        CloseAllWindows()\n",
    "        \n",
    "    elif option == 4:\n",
    "        ShowImg(grayImg)\n",
    "        CloseAllWindows()\n",
    " \n",
    "    else:\n",
    "        print('Invalid option')\n",
    "    \n",
    "    print()\n",
    "    Menu()\n",
    "    print()\n",
    "    option = int(input('Choose a option: '))\n",
    "\n",
    "cv2.destroyAllWindows()"
   ]
  },
  {
   "cell_type": "code",
   "execution_count": null,
   "metadata": {},
   "outputs": [],
   "source": []
  }
 ],
 "metadata": {
  "kernelspec": {
   "display_name": "Python 3",
   "language": "python",
   "name": "python3"
  },
  "language_info": {
   "codemirror_mode": {
    "name": "ipython",
    "version": 3
   },
   "file_extension": ".py",
   "mimetype": "text/x-python",
   "name": "python",
   "nbconvert_exporter": "python",
   "pygments_lexer": "ipython3",
   "version": "3.6.6"
  }
 },
 "nbformat": 4,
 "nbformat_minor": 2
}
