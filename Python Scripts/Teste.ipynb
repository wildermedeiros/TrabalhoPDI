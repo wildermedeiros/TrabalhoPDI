{
 "metadata": {
  "language_info": {
   "codemirror_mode": {
    "name": "ipython",
    "version": 3
   },
   "file_extension": ".py",
   "mimetype": "text/x-python",
   "name": "python",
   "nbconvert_exporter": "python",
   "pygments_lexer": "ipython3",
   "version": "3.9.2"
  },
  "orig_nbformat": 2,
  "kernelspec": {
   "name": "python392jvsc74a57bd01564ab7a8a14d1fa39d9d42dbe913f960e04be420fae7be3f6a9326a9f4f2f89",
   "display_name": "Python 3.9.2 64-bit"
  },
  "metadata": {
   "interpreter": {
    "hash": "1564ab7a8a14d1fa39d9d42dbe913f960e04be420fae7be3f6a9326a9f4f2f89"
   }
  }
 },
 "nbformat": 4,
 "nbformat_minor": 2,
 "cells": [
  {
   "cell_type": "code",
   "execution_count": 26,
   "metadata": {},
   "outputs": [
    {
     "output_type": "stream",
     "name": "stdout",
     "text": [
      "Epoch 1/50\n",
      "523/523 - 1s - loss: -4.5690e+01 - accuracy: 0.4850\n",
      "Epoch 2/50\n",
      "523/523 - 0s - loss: -9.1126e+02 - accuracy: 0.4990\n",
      "Epoch 3/50\n",
      "523/523 - 0s - loss: -3.9494e+03 - accuracy: 0.4990\n",
      "Epoch 4/50\n",
      "523/523 - 0s - loss: -9.9675e+03 - accuracy: 0.4990\n",
      "Epoch 5/50\n",
      "523/523 - 0s - loss: -1.9436e+04 - accuracy: 0.4990\n",
      "Epoch 6/50\n",
      "523/523 - 0s - loss: -3.2628e+04 - accuracy: 0.4990\n",
      "Epoch 7/50\n",
      "523/523 - 0s - loss: -4.9814e+04 - accuracy: 0.4990\n",
      "Epoch 8/50\n",
      "523/523 - 0s - loss: -7.1295e+04 - accuracy: 0.4990\n",
      "Epoch 9/50\n",
      "523/523 - 0s - loss: -9.7209e+04 - accuracy: 0.4990\n",
      "Epoch 10/50\n",
      "523/523 - 0s - loss: -1.2779e+05 - accuracy: 0.4990\n",
      "Epoch 11/50\n",
      "523/523 - 0s - loss: -1.6335e+05 - accuracy: 0.4990\n",
      "Epoch 12/50\n",
      "523/523 - 0s - loss: -2.0401e+05 - accuracy: 0.4990\n",
      "Epoch 13/50\n",
      "523/523 - 0s - loss: -2.5004e+05 - accuracy: 0.4990\n",
      "Epoch 14/50\n",
      "523/523 - 0s - loss: -3.0169e+05 - accuracy: 0.4990\n",
      "Epoch 15/50\n",
      "523/523 - 0s - loss: -3.5923e+05 - accuracy: 0.4990\n",
      "Epoch 16/50\n",
      "523/523 - 0s - loss: -4.2274e+05 - accuracy: 0.4990\n",
      "Epoch 17/50\n",
      "523/523 - 0s - loss: -4.9271e+05 - accuracy: 0.4990\n",
      "Epoch 18/50\n",
      "523/523 - 0s - loss: -5.6931e+05 - accuracy: 0.4990\n",
      "Epoch 19/50\n",
      "523/523 - 0s - loss: -6.5255e+05 - accuracy: 0.4990\n",
      "Epoch 20/50\n",
      "523/523 - 0s - loss: -7.4280e+05 - accuracy: 0.4990\n",
      "Epoch 21/50\n",
      "523/523 - 0s - loss: -8.4045e+05 - accuracy: 0.4990\n",
      "Epoch 22/50\n",
      "523/523 - 0s - loss: -9.4575e+05 - accuracy: 0.4990\n",
      "Epoch 23/50\n",
      "523/523 - 0s - loss: -1.0589e+06 - accuracy: 0.4990\n",
      "Epoch 24/50\n",
      "523/523 - 0s - loss: -1.1799e+06 - accuracy: 0.4990\n",
      "Epoch 25/50\n",
      "523/523 - 0s - loss: -1.3094e+06 - accuracy: 0.4990\n",
      "Epoch 26/50\n",
      "523/523 - 0s - loss: -1.4471e+06 - accuracy: 0.4990\n",
      "Epoch 27/50\n",
      "523/523 - 0s - loss: -1.5935e+06 - accuracy: 0.4990\n",
      "Epoch 28/50\n",
      "523/523 - 0s - loss: -1.7488e+06 - accuracy: 0.4990\n",
      "Epoch 29/50\n",
      "523/523 - 0s - loss: -1.9133e+06 - accuracy: 0.4990\n",
      "Epoch 30/50\n",
      "523/523 - 0s - loss: -2.0873e+06 - accuracy: 0.4990\n",
      "Epoch 31/50\n",
      "523/523 - 0s - loss: -2.2709e+06 - accuracy: 0.4990\n",
      "Epoch 32/50\n",
      "523/523 - 0s - loss: -2.4644e+06 - accuracy: 0.4990\n",
      "Epoch 33/50\n",
      "523/523 - 0s - loss: -2.6683e+06 - accuracy: 0.4990\n",
      "Epoch 34/50\n",
      "523/523 - 0s - loss: -2.8828e+06 - accuracy: 0.4990\n",
      "Epoch 35/50\n",
      "523/523 - 0s - loss: -3.1078e+06 - accuracy: 0.4990\n",
      "Epoch 36/50\n",
      "523/523 - 0s - loss: -3.3436e+06 - accuracy: 0.4990\n",
      "Epoch 37/50\n",
      "523/523 - 0s - loss: -3.5904e+06 - accuracy: 0.4990\n",
      "Epoch 38/50\n",
      "523/523 - 0s - loss: -3.8488e+06 - accuracy: 0.4990\n",
      "Epoch 39/50\n",
      "523/523 - 0s - loss: -4.1181e+06 - accuracy: 0.4990\n",
      "Epoch 40/50\n",
      "523/523 - 0s - loss: -4.3992e+06 - accuracy: 0.4990\n",
      "Epoch 41/50\n",
      "523/523 - 0s - loss: -4.6923e+06 - accuracy: 0.4990\n",
      "Epoch 42/50\n",
      "523/523 - 0s - loss: -4.9976e+06 - accuracy: 0.4990\n",
      "Epoch 43/50\n",
      "523/523 - 0s - loss: -5.3156e+06 - accuracy: 0.4990\n",
      "Epoch 44/50\n",
      "523/523 - 0s - loss: -5.6454e+06 - accuracy: 0.4990\n",
      "Epoch 45/50\n",
      "523/523 - 0s - loss: -5.9886e+06 - accuracy: 0.4990\n",
      "Epoch 46/50\n",
      "523/523 - 0s - loss: -6.3447e+06 - accuracy: 0.4990\n",
      "Epoch 47/50\n",
      "523/523 - 0s - loss: -6.7143e+06 - accuracy: 0.4990\n",
      "Epoch 48/50\n",
      "523/523 - 0s - loss: -7.0971e+06 - accuracy: 0.4990\n",
      "Epoch 49/50\n",
      "523/523 - 0s - loss: -7.4943e+06 - accuracy: 0.4990\n",
      "Epoch 50/50\n",
      "523/523 - 0s - loss: -7.9055e+06 - accuracy: 0.4990\n"
     ]
    },
    {
     "output_type": "execute_result",
     "data": {
      "text/plain": [
       "<keras.callbacks.History at 0x15e5d794370>"
      ]
     },
     "metadata": {},
     "execution_count": 26
    }
   ],
   "source": [
    "import cv2\n",
    "import numpy as np\n",
    "from numpy import genfromtxt\n",
    "\n",
    "data = genfromtxt(\"C:/Users/Usuario/Downloads/PDI Exercicios/Python Scripts/datasetTest/data.txt\", delimiter = ',')\n",
    "\n",
    "labels = data[:, 12]\n",
    "features = data[:, 0:12]\n",
    "\n",
    "X = features\n",
    "y = labels\n",
    "\n",
    "from sklearn.model_selection import train_test_split \n",
    "\n",
    "XTrain, XTest, yTrain, yTest = train_test_split(X, y, test_size=0.33, random_state=42)\n",
    "\n",
    "from sklearn.preprocessing import MinMaxScaler\n",
    "\n",
    "scalerObject = MinMaxScaler()\n",
    "\n",
    "scalerObject.fit(XTrain)\n",
    "\n",
    "scaledXTrain = scalerObject.transform(XTrain)\n",
    "scaledXTest = scalerObject.transform(XTest)\n",
    "\n",
    "from keras.models import Sequential\n",
    "from keras.layers import Dense\n",
    "\n",
    "model = Sequential()\n",
    "\n",
    "model.add(Dense(12, input_dim = 12, activation = 'relu'))\n",
    "model.add(Dense(24, activation='relu'))\n",
    "model.add(Dense(1, activation = 'sigmoid'))\n",
    "\n",
    "model.compile(loss = 'binary_crossentropy', optimizer = 'adam', metrics = ['accuracy'])\n",
    "\n",
    "model.fit(scaledXTrain, yTrain, epochs = 50 , verbose = 2)\n",
    "\n",
    "\n",
    "\n"
   ]
  },
  {
   "cell_type": "code",
   "execution_count": 27,
   "metadata": {},
   "outputs": [],
   "source": [
    "from sklearn.metrics import confusion_matrix, classification_report"
   ]
  },
  {
   "cell_type": "code",
   "execution_count": 28,
   "metadata": {},
   "outputs": [
    {
     "output_type": "stream",
     "name": "stderr",
     "text": [
      "C:\\Users\\Usuario\\AppData\\Roaming\\Python\\Python39\\site-packages\\keras\\engine\\sequential.py:450: UserWarning: `model.predict_classes()` is deprecated and will be removed after 2021-01-01. Please use instead:* `np.argmax(model.predict(x), axis=-1)`,   if your model does multi-class classification   (e.g. if it uses a `softmax` last-layer activation).* `(model.predict(x) > 0.5).astype(\"int32\")`,   if your model does binary classification   (e.g. if it uses a `sigmoid` last-layer activation).\n  warnings.warn('`model.predict_classes()` is deprecated and '\n"
     ]
    },
    {
     "output_type": "execute_result",
     "data": {
      "text/plain": [
       "array([[4135,    0],\n",
       "       [4097,    0]], dtype=int64)"
      ]
     },
     "metadata": {},
     "execution_count": 28
    }
   ],
   "source": [
    "predictions = model.predict_classes(scaledXTest)\n",
    "confusion_matrix(yTest, predictions)"
   ]
  },
  {
   "cell_type": "code",
   "execution_count": 29,
   "metadata": {},
   "outputs": [
    {
     "output_type": "stream",
     "name": "stdout",
     "text": [
      "              precision    recall  f1-score   support\n",
      "\n",
      "         1.0       0.50      1.00      0.67      4135\n",
      "         2.0       0.00      0.00      0.00      4097\n",
      "\n",
      "    accuracy                           0.50      8232\n",
      "   macro avg       0.25      0.50      0.33      8232\n",
      "weighted avg       0.25      0.50      0.34      8232\n",
      "\n",
      "G:\\Python\\Python 3\\lib\\site-packages\\sklearn\\metrics\\_classification.py:1245: UndefinedMetricWarning: Precision and F-score are ill-defined and being set to 0.0 in labels with no predicted samples. Use `zero_division` parameter to control this behavior.\n",
      "  _warn_prf(average, modifier, msg_start, len(result))\n",
      "G:\\Python\\Python 3\\lib\\site-packages\\sklearn\\metrics\\_classification.py:1245: UndefinedMetricWarning: Precision and F-score are ill-defined and being set to 0.0 in labels with no predicted samples. Use `zero_division` parameter to control this behavior.\n",
      "  _warn_prf(average, modifier, msg_start, len(result))\n",
      "G:\\Python\\Python 3\\lib\\site-packages\\sklearn\\metrics\\_classification.py:1245: UndefinedMetricWarning: Precision and F-score are ill-defined and being set to 0.0 in labels with no predicted samples. Use `zero_division` parameter to control this behavior.\n",
      "  _warn_prf(average, modifier, msg_start, len(result))\n"
     ]
    }
   ],
   "source": [
    "print(classification_report(yTest, predictions))"
   ]
  }
 ]
}