{
 "metadata": {
  "language_info": {
   "codemirror_mode": {
    "name": "ipython",
    "version": 3
   },
   "file_extension": ".py",
   "mimetype": "text/x-python",
   "name": "python",
   "nbconvert_exporter": "python",
   "pygments_lexer": "ipython3",
   "version": "3.9.2"
  },
  "orig_nbformat": 2,
  "kernelspec": {
   "name": "python392jvsc74a57bd01564ab7a8a14d1fa39d9d42dbe913f960e04be420fae7be3f6a9326a9f4f2f89",
   "display_name": "Python 3.9.2 64-bit"
  },
  "metadata": {
   "interpreter": {
    "hash": "1564ab7a8a14d1fa39d9d42dbe913f960e04be420fae7be3f6a9326a9f4f2f89"
   }
  }
 },
 "nbformat": 4,
 "nbformat_minor": 2,
 "cells": [
  {
   "cell_type": "code",
   "execution_count": 27,
   "metadata": {},
   "outputs": [],
   "source": [
    "import glob\n",
    "import cv2\n",
    "import numpy as np\n",
    "import pandas as pd\n",
    "\n",
    "images = [cv2.imread(file) for file in glob.glob(\n",
    "    \"C:/Users/Usuario/Downloads/PDI Exercicios/Python Scripts/datasetTest/*.png\")]\n",
    "\n",
    "len(images)\n",
    "\n",
    "def GetArea(image):\n",
    "    height = image.shape[0]\n",
    "    width = image.shape[1]\n",
    "    area = height * width\n",
    "\n",
    "    return area\n",
    "\n",
    "\n",
    "def ContournPerimeter(image):\n",
    "    ret, thresh = cv2.threshold(image, 127, 255, 0)\n",
    "\n",
    "    contours, hierarchy = cv2.findContours(\n",
    "        image, cv2.RETR_CCOMP, cv2.CHAIN_APPROX_SIMPLE)\n",
    "\n",
    "    cnt = contours[0]\n",
    "    #M = cv2.moments(cnt)\n",
    "\n",
    "    perimeter = cv2.arcLength(cnt, True)\n",
    "\n",
    "    return perimeter\n",
    "\n",
    "# def GetEnergy(image):\n",
    "\n",
    "\n",
    "dictionaryList = []\n",
    "for image in images:\n",
    "\n",
    "    image = cv2.cvtColor(image, cv2.COLOR_BGR2GRAY)\n",
    "\n",
    "    #image = image / image.max()\n",
    "\n",
    "    area = GetArea(image)\n",
    "    perimeter = ContournPerimeter(image)\n",
    "    #energy = GetEnergy(image)\n",
    "    cat = 1\n",
    "\n",
    "    dictionary = {\n",
    "        \"Area\": area,\n",
    "        \"Perimetro\": perimeter,\n",
    "        #\"Corr\": corr,\n",
    "        \"Categoria\": cat\n",
    "    }\n",
    "    # get input row in dictionary format\n",
    "    # key = col_name\n",
    "\n",
    "    #dict1.update(blah..)\n",
    "\n",
    "    dictionaryList.append(dictionary)\n",
    "\n",
    "\n",
    "df = pd.DataFrame(dictionaryList)\n",
    "\n",
    "# df.to_csv(\"C:/Users/Usuario/Downloads/PDI Exercicios/Python Scripts/datasetTest/dataframe.txt\",\n",
    "#           header=False, sep=\",\", index=False)\n"
   ]
  },
  {
   "cell_type": "code",
   "execution_count": 28,
   "metadata": {},
   "outputs": [
    {
     "output_type": "execute_result",
     "data": {
      "text/plain": [
       "     Area    Perimetro  Categoria\n",
       "0  530322    30.485281          1\n",
       "1  274813  2424.000000          1\n",
       "2  481048  2784.000000          1\n",
       "3  238220  1964.000000          1\n",
       "4  220506  1882.000000          1"
      ],
      "text/html": "<div>\n<style scoped>\n    .dataframe tbody tr th:only-of-type {\n        vertical-align: middle;\n    }\n\n    .dataframe tbody tr th {\n        vertical-align: top;\n    }\n\n    .dataframe thead th {\n        text-align: right;\n    }\n</style>\n<table border=\"1\" class=\"dataframe\">\n  <thead>\n    <tr style=\"text-align: right;\">\n      <th></th>\n      <th>Area</th>\n      <th>Perimetro</th>\n      <th>Categoria</th>\n    </tr>\n  </thead>\n  <tbody>\n    <tr>\n      <th>0</th>\n      <td>530322</td>\n      <td>30.485281</td>\n      <td>1</td>\n    </tr>\n    <tr>\n      <th>1</th>\n      <td>274813</td>\n      <td>2424.000000</td>\n      <td>1</td>\n    </tr>\n    <tr>\n      <th>2</th>\n      <td>481048</td>\n      <td>2784.000000</td>\n      <td>1</td>\n    </tr>\n    <tr>\n      <th>3</th>\n      <td>238220</td>\n      <td>1964.000000</td>\n      <td>1</td>\n    </tr>\n    <tr>\n      <th>4</th>\n      <td>220506</td>\n      <td>1882.000000</td>\n      <td>1</td>\n    </tr>\n  </tbody>\n</table>\n</div>"
     },
     "metadata": {},
     "execution_count": 28
    }
   ],
   "source": [
    "df"
   ]
  },
  {
   "cell_type": "code",
   "execution_count": null,
   "metadata": {},
   "outputs": [],
   "source": []
  }
 ]
}