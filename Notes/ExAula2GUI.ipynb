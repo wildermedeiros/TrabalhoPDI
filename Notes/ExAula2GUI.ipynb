{
 "cells": [
  {
   "cell_type": "code",
   "execution_count": 1,
   "metadata": {},
   "outputs": [],
   "source": [
    "import cv2\n",
    "import numpy as np\n",
    "#import matplotlib.pyplot as plt\n",
    "\n",
    "newX = 0\n",
    "newY = 0\n",
    "fontType = cv2.FONT_HERSHEY_SIMPLEX\n",
    "\n",
    "def nothing(x):\n",
    "    pass\n",
    "\n",
    "def PutTextOnScreen(event, x, y, flags, param):\n",
    "    global newX, newY\n",
    "    \n",
    "    if event == cv2.EVENT_MOUSEMOVE:\n",
    "        newX = x\n",
    "        newY = y        \n",
    "\n",
    "cv2.namedWindow(winname = 'Aula2')\n",
    "cv2.setMouseCallback('Aula2', PutTextOnScreen)\n",
    "\n",
    "cv2.createTrackbar('Red', 'Aula2', 0, 256, nothing)\n",
    "cv2.createTrackbar('Blue', 'Aula2', 0, 256, nothing)\n",
    "cv2.createTrackbar('Green', 'Aula2', 0, 256, nothing)\n",
    "\n",
    "while True:\n",
    "    img = cv2.imread('c:/snow.jpg')\n",
    "\n",
    "    red = cv2.getTrackbarPos('Red', 'Aula2')\n",
    "    blue = cv2.getTrackbarPos('Blue', 'Aula2')\n",
    "    green = cv2.getTrackbarPos('Green', 'Aula2')\n",
    "    \n",
    "    textToDisplay = \"X: \" + str(newX) + \"Y: \" + str(newY)\n",
    "    cv2.putText(img, textToDisplay, (10,500), fontType, 2, (red,blue,green), 3, cv2.LINE_AA)\n",
    "    \n",
    "    cv2.imshow('Aula2', img)\n",
    "    \n",
    "    \n",
    "    if cv2.waitKey(1) & 0xFF == 27:\n",
    "        break\n",
    "        \n",
    "cv2.destroyAllWindows()\n"
   ]
  },
  {
   "cell_type": "code",
   "execution_count": null,
   "metadata": {},
   "outputs": [],
   "source": []
  },
  {
   "cell_type": "code",
   "execution_count": 10,
   "metadata": {},
   "outputs": [],
   "source": []
  },
  {
   "cell_type": "code",
   "execution_count": 16,
   "metadata": {},
   "outputs": [
    {
     "data": {
      "text/plain": [
       "numpy.ndarray"
      ]
     },
     "execution_count": 16,
     "metadata": {},
     "output_type": "execute_result"
    }
   ],
   "source": []
  },
  {
   "cell_type": "code",
   "execution_count": null,
   "metadata": {},
   "outputs": [],
   "source": []
  }
 ],
 "metadata": {
  "kernelspec": {
   "display_name": "Python 3",
   "language": "python",
   "name": "python3"
  },
  "language_info": {
   "codemirror_mode": {
    "name": "ipython",
    "version": 3
   },
   "file_extension": ".py",
   "mimetype": "text/x-python",
   "name": "python",
   "nbconvert_exporter": "python",
   "pygments_lexer": "ipython3",
   "version": "3.6.6"
  }
 },
 "nbformat": 4,
 "nbformat_minor": 2
}
